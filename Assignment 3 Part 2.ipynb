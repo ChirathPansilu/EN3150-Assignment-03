{
 "cells": [
  {
   "cell_type": "markdown",
   "id": "fd5bf25e-f873-46a3-9d39-7a45f7eb6ae9",
   "metadata": {},
   "source": [
    "# Compare your Network with State-Of-the-Art Networks"
   ]
  },
  {
   "cell_type": "markdown",
   "id": "195c0b8f-d9a4-4dbf-bcf8-b3498a695e47",
   "metadata": {},
   "source": [
    "### Import Libraries"
   ]
  },
  {
   "cell_type": "code",
   "execution_count": null,
   "id": "448f695d-48f4-4fd1-a4c4-d170ac292de6",
   "metadata": {},
   "outputs": [],
   "source": [
    "import torch\n",
    "import numpy as np\n",
    "import matplotlib.pyplot as plt\n",
    "\n",
    "from torchvision import datasets, transforms\n",
    "from torchvision.models import resnet50, ResNet50_Weights, vgg19, VGG19_Weights\n",
    "from torch.utils.data import random_split, ConcatDataset\n",
    "\n",
    "import torch.nn as nn\n",
    "import torch.nn.functional as F\n",
    "import torch.optim as optim\n",
    "\n",
    "from torcheval.metrics.functional import (multiclass_accuracy, \n",
    "                                          multiclass_confusion_matrix, \n",
    "                                          multiclass_precision, \n",
    "                                          multiclass_recall)\n",
    "from sklearn.metrics import ConfusionMatrixDisplay, recall_score, precision_score, accuracy_score"
   ]
  }
 ],
 "metadata": {
  "kernelspec": {
   "display_name": "Python 3 (ipykernel)",
   "language": "python",
   "name": "python3"
  },
  "language_info": {
   "codemirror_mode": {
    "name": "ipython",
    "version": 3
   },
   "file_extension": ".py",
   "mimetype": "text/x-python",
   "name": "python",
   "nbconvert_exporter": "python",
   "pygments_lexer": "ipython3",
   "version": "3.8.18"
  }
 },
 "nbformat": 4,
 "nbformat_minor": 5
}
