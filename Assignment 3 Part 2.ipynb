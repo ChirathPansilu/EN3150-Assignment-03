{
 "cells": [
  {
   "cell_type": "markdown",
   "id": "fd5bf25e-f873-46a3-9d39-7a45f7eb6ae9",
   "metadata": {},
   "source": [
    "# Compare your Network with State-Of-the-Art Networks"
   ]
  },
  {
   "cell_type": "markdown",
   "id": "195c0b8f-d9a4-4dbf-bcf8-b3498a695e47",
   "metadata": {},
   "source": [
    "### Import Libraries"
   ]
  },
  {
   "cell_type": "code",
   "execution_count": null,
   "id": "448f695d-48f4-4fd1-a4c4-d170ac292de6",
   "metadata": {},
   "outputs": [],
   "source": [
    "import torch\n",
    "import numpy as np\n",
    "import matplotlib.pyplot as plt\n",
    "\n",
    "from torchvision import datasets, transforms\n",
    "from torchvision.models import resnet50, ResNet50_Weights, vgg19, VGG19_Weights\n",
    "from torch.utils.data import random_split, ConcatDataset\n",
    "\n",
    "import torch.nn as nn\n",
    "import torch.nn.functional as F\n",
    "import torch.optim as optim\n",
    "\n",
    "from torcheval.metrics.functional import (multiclass_accuracy, \n",
    "                                          multiclass_confusion_matrix, \n",
    "                                          multiclass_precision, \n",
    "                                          multiclass_recall)\n",
    "from sklearn.metrics import ConfusionMatrixDisplay, recall_score, precision_score, accuracy_score"
   ]
  },
  {
   "cell_type": "markdown",
   "id": "b7bd21af-81ea-4049-ab79-f98e514e774c",
   "metadata": {},
   "source": [
    "### Load the Data"
   ]
  },
  {
   "cell_type": "code",
   "execution_count": null,
   "id": "5d98bf5a-dacf-41f3-8f9f-6d3134695b37",
   "metadata": {},
   "outputs": [],
   "source": [
    "# Batch size for training, validation and testing datasets\n",
    "batch_size = 32\n",
    "\n",
    "# Percentages for training, validation and training sets\n",
    "train_split = 0.6\n",
    "valid_split = 0.2\n",
    "test_split = 0.2"
   ]
  },
  {
   "cell_type": "code",
   "execution_count": null,
   "id": "45f2ff29-b470-4a78-a520-68d43f1cde08",
   "metadata": {},
   "outputs": [],
   "source": [
    "transform = transforms.Compose([transforms.Resize(256),\n",
    "                                transforms.CenterCrop(224),\n",
    "                                transforms.ToTensor(),\n",
    "                                transforms.Normalize(mean=[0.485, 0.456, 0.406], std=[0.229, 0.224, 0.225]),\n",
    "                                ])"
   ]
  },
  {
   "cell_type": "code",
   "execution_count": null,
   "id": "6e8074f0-35ac-4860-af5b-a0ab80689b01",
   "metadata": {},
   "outputs": [],
   "source": [
    "train_data = datasets.CIFAR10('./data', train=True, transform=transform, download=True)\n",
    "test_data = datasets.CIFAR10('./data', train=False, transform=transform, download=True)"
   ]
  },
  {
   "cell_type": "code",
   "execution_count": null,
   "id": "0ea83484-1449-468c-a4a3-18ee835b07cc",
   "metadata": {},
   "outputs": [],
   "source": [
    "# Concatenate the datasets\n",
    "full_dataset = ConcatDataset([train_data, test_data])\n",
    "\n",
    "len_full_dataset = len(full_dataset)\n",
    "print(\"Full dataset length\", len_full_dataset)"
   ]
  },
  {
   "cell_type": "code",
   "execution_count": null,
   "id": "91e01c15-60da-4c6c-9acb-1a64fd031ba8",
   "metadata": {},
   "outputs": [],
   "source": [
    "# Split data into training, validation and test datasets\n",
    "\n",
    "# Seed the generator to achieve the same splits everytime\n",
    "split_generator = torch.Generator().manual_seed(42)\n",
    "\n",
    "train_size = int(np.floor(train_split * len_full_dataset))\n",
    "valid_size = int(np.floor(valid_split * len_full_dataset))\n",
    "test_size = int(np.floor(test_split * len_full_dataset))\n",
    "\n",
    "train_dataset, valid_dataset, test_dataset = random_split(full_dataset, \n",
    "                                                               [train_size, valid_size, test_size], \n",
    "                                                               split_generator)"
   ]
  },
  {
   "cell_type": "code",
   "execution_count": null,
   "id": "e7f93996-a992-444a-aa64-2463b6054a06",
   "metadata": {},
   "outputs": [],
   "source": [
    "print(\"Train dataset length: \", len(train_dataset))\n",
    "print(\"Validation dataset length: \", len(valid_dataset))\n",
    "print(\"Test dataset length: \", len(test_dataset))"
   ]
  },
  {
   "cell_type": "code",
   "execution_count": null,
   "id": "23726935-38c7-4a34-b4cc-2824a2abc6a3",
   "metadata": {},
   "outputs": [],
   "source": [
    "train_loader = torch.utils.data.DataLoader(train_dataset, batch_size, shuffle=True)\n",
    "valid_loader = torch.utils.data.DataLoader(valid_dataset, batch_size, shuffle=True)\n",
    "test_loader = torch.utils.data.DataLoader(test_dataset, batch_size, shuffle=True)"
   ]
  },
  {
   "cell_type": "code",
   "execution_count": null,
   "id": "0d3cf90f-6f0c-4e27-a971-9b9fd73e85e6",
   "metadata": {},
   "outputs": [],
   "source": [
    "# Image classes\n",
    "classes = ['airplane', 'automobile', 'bird', 'cat', 'deer', 'dog', 'frog', 'horse', 'ship', 'truck']"
   ]
  },
  {
   "cell_type": "markdown",
   "id": "8ae58f58-e995-4034-8a14-bc83b75db991",
   "metadata": {},
   "source": [
    "---\n",
    "### ResNet50 Model"
   ]
  },
  {
   "cell_type": "code",
   "execution_count": null,
   "id": "91cd0c0e-e3ba-4512-ad3d-90326202a61d",
   "metadata": {},
   "outputs": [],
   "source": [
    "# Load the pretrained model\n",
    "resnet50 = resnet50(weights=ResNet50_Weights.DEFAULT)"
   ]
  },
  {
   "cell_type": "code",
   "execution_count": null,
   "id": "025819d6-7f90-4934-83c0-031e73447f5e",
   "metadata": {},
   "outputs": [],
   "source": [
    "# Print the model structure\n",
    "print(resnet50)"
   ]
  },
  {
   "cell_type": "code",
   "execution_count": null,
   "id": "50c931bb-bb08-4555-80d5-408d944a9217",
   "metadata": {},
   "outputs": [],
   "source": [
    "print(resnet50.fc)"
   ]
  },
  {
   "cell_type": "code",
   "execution_count": null,
   "id": "c9d0785b-8ee2-46a6-adf9-7e5b3418ff3f",
   "metadata": {},
   "outputs": [],
   "source": [
    "# Freeze parameters\n",
    "# for param in resnet50.parameters():\n",
    "#     param.requires_grad = False"
   ]
  },
  {
   "cell_type": "markdown",
   "id": "a88ac580-5701-4cce-9d3f-42c539983370",
   "metadata": {},
   "source": [
    "### ResNet50 Custom Classifier"
   ]
  },
  {
   "cell_type": "code",
   "execution_count": null,
   "id": "68780f5a-9b77-428e-9a46-e373e41e28c1",
   "metadata": {},
   "outputs": [],
   "source": [
    "n_inputs = resnet50.fc.in_features\n",
    "\n",
    "fc = nn.Sequential(nn.Linear(n_inputs, 1024),\n",
    "                   nn.ReLU(),\n",
    "#                    nn.Dropout(0.5),\n",
    "                   nn.Linear(1024, 512),\n",
    "                   nn.ReLU(),\n",
    "#                    nn.Dropout(0.5),\n",
    "                   nn.Linear(512, 10))\n",
    "\n",
    "resnet50.fc = fc"
   ]
  },
  {
   "cell_type": "code",
   "execution_count": null,
   "id": "b15b83cf-f55a-46a1-9cd4-b1de78e054c1",
   "metadata": {},
   "outputs": [],
   "source": [
    "# check if CUDA is available\n",
    "train_on_gpu = torch.cuda.is_available()\n",
    "\n",
    "if not train_on_gpu:\n",
    "    print('Training on CPU ...')\n",
    "else:\n",
    "    print('Training on GPU ...')"
   ]
  },
  {
   "cell_type": "code",
   "execution_count": null,
   "id": "9d0026c4-db5e-47b8-8c88-12e775019eeb",
   "metadata": {},
   "outputs": [],
   "source": [
    "if train_on_gpu:\n",
    "    resnet50.cuda()"
   ]
  },
  {
   "cell_type": "code",
   "execution_count": null,
   "id": "87135c3e-d32d-407b-8784-0815ddfb8532",
   "metadata": {},
   "outputs": [],
   "source": [
    "print(resnet50.fc)"
   ]
  },
  {
   "cell_type": "markdown",
   "id": "04b4b566-6967-4af9-9ea8-3f7c7df5532a",
   "metadata": {},
   "source": [
    "### Loss Function & Optimizer"
   ]
  },
  {
   "cell_type": "code",
   "execution_count": null,
   "id": "75b88cf3-a7a3-4475-8b07-dd031ef39f1c",
   "metadata": {},
   "outputs": [],
   "source": [
    "criterion = nn.CrossEntropyLoss()\n",
    "\n",
    "# optimizer = optim.Adam(resnet50.fc.parameters(), lr=0.001)\n",
    "optimizer = optim.Adam(resnet50.parameters(), lr=0.001)"
   ]
  },
  {
   "cell_type": "markdown",
   "id": "d3739d92-53d6-4048-a14f-71380056c26b",
   "metadata": {},
   "source": [
    "### Train the Network"
   ]
  },
  {
   "cell_type": "code",
   "execution_count": null,
   "id": "5dd8c37e-c7da-459f-b376-b39b04e8f47a",
   "metadata": {},
   "outputs": [],
   "source": [
    "n_epochs = 10\n",
    "\n",
    "valid_loss_min = np.Inf\n",
    "\n",
    "train_losses, valid_losses = [], []\n",
    "\n",
    "for epoch in range(1, n_epochs+1):\n",
    "    train_loss = 0.0\n",
    "    valid_loss = 0.0\n",
    "    \n",
    "    ############# Train the model #############\n",
    "    resnet50.train()\n",
    "    for images, labels in train_loader:\n",
    "        if train_on_gpu:\n",
    "            images, labels = images.cuda(), labels.cuda()\n",
    "            \n",
    "        optimizer.zero_grad()\n",
    "        \n",
    "        output = resnet50(images)\n",
    "        loss = criterion(output, labels)\n",
    "        loss.backward()\n",
    "        optimizer.step()\n",
    "        \n",
    "        train_loss += loss.item() * images.size(0)\n",
    "        \n",
    "    ############# Train the model #############\n",
    "    with torch.no_grad():\n",
    "        resnet50.eval()\n",
    "        for images, labels in valid_loader:\n",
    "            if train_on_gpu:\n",
    "                images, labels = images.cuda(), labels.cuda()\n",
    "                \n",
    "            output = resnet50(images)\n",
    "            loss = criterion(output, labels)\n",
    "            valid_loss += loss.item() * images.size(0)\n",
    "            \n",
    "    # Calculate average losses\n",
    "    train_loss = train_loss/len(train_loader.sampler)\n",
    "    valid_loss = valid_loss/len(valid_loader.sampler)\n",
    "    \n",
    "    train_losses.append(train_loss)\n",
    "    valid_losses.append(valid_loss)\n",
    "    \n",
    "    print('Epoch: {} \\tTraining Loss: {:.6f} \\tValidation Loss: {:.6f}'.format(\n",
    "        epoch, train_loss, valid_loss))\n",
    "    \n",
    "    # Save model when validation loss decreases\n",
    "    if valid_loss <= valid_loss_min:\n",
    "        print('Validation loss decreased ({:.6f} --> {:.6f}). Saving model ...'.format(valid_loss_min,valid_loss))\n",
    "        \n",
    "        torch.save(resnet50.state_dict(), 'model_resnet50.pt')\n",
    "        valid_loss_min = valid_loss"
   ]
  },
  {
   "cell_type": "code",
   "execution_count": null,
   "id": "7405897e-ca6b-4ee5-801f-154466c309f2",
   "metadata": {},
   "outputs": [],
   "source": [
    "plt.plot(train_losses, label='Training loss')\n",
    "plt.plot(valid_losses, label='Validation loss')\n",
    "plt.legend(frameon=False)\n",
    "plt.xticks(range(10))\n",
    "plt.show()"
   ]
  },
  {
   "cell_type": "markdown",
   "id": "a1e04fd6-daf5-4c0f-a858-070605025dcc",
   "metadata": {},
   "source": [
    "### Load the Model with Lowest Validation Loss"
   ]
  },
  {
   "cell_type": "code",
   "execution_count": null,
   "id": "f9333dd2-751b-4027-8a48-108c76037e6c",
   "metadata": {},
   "outputs": [],
   "source": [
    "resnet50.load_state_dict(torch.load('model_resnet50.pt'))"
   ]
  }
 ],
 "metadata": {
  "kernelspec": {
   "display_name": "Python 3 (ipykernel)",
   "language": "python",
   "name": "python3"
  },
  "language_info": {
   "codemirror_mode": {
    "name": "ipython",
    "version": 3
   },
   "file_extension": ".py",
   "mimetype": "text/x-python",
   "name": "python",
   "nbconvert_exporter": "python",
   "pygments_lexer": "ipython3",
   "version": "3.8.18"
  }
 },
 "nbformat": 4,
 "nbformat_minor": 5
}
