{
 "cells": [
  {
   "cell_type": "markdown",
   "id": "66a628e8",
   "metadata": {},
   "source": [
    "# Compare your Network with State-Of-the-Art Networks"
   ]
  },
  {
   "cell_type": "markdown",
   "id": "ef91e53c",
   "metadata": {},
   "source": [
    "### Import Libraries"
   ]
  },
  {
   "cell_type": "code",
   "execution_count": 46,
   "id": "c6a95388",
   "metadata": {
    "scrolled": true
   },
   "outputs": [],
   "source": [
    "import torch\n",
    "import numpy as np\n",
    "import matplotlib.pyplot as plt\n",
    "\n",
    "from torchvision import datasets, transforms\n",
    "from torchvision.models import resnet50, ResNet50_Weights, vgg19, VGG19_Weights\n",
    "from torch.utils.data import random_split, ConcatDataset\n",
    "\n",
    "import torch.nn as nn\n",
    "import torch.nn.functional as F\n",
    "import torch.optim as optim\n",
    "\n",
    "from torcheval.metrics.functional import (multiclass_accuracy, \n",
    "                                          multiclass_confusion_matrix, \n",
    "                                          multiclass_precision, \n",
    "                                          multiclass_recall)\n",
    "from sklearn.metrics import ConfusionMatrixDisplay, recall_score, precision_score, accuracy_score"
   ]
  },
  {
   "cell_type": "markdown",
   "id": "d83aeb9f",
   "metadata": {},
   "source": [
    "### Load the Data"
   ]
  },
  {
   "cell_type": "code",
   "execution_count": 47,
   "id": "2053e1cc",
   "metadata": {},
   "outputs": [],
   "source": [
    "# Batch size for training, validation and testing datasets\n",
    "batch_size = 32\n",
    "\n",
    "# Percentages for training, validation and training sets\n",
    "train_split = 0.6\n",
    "valid_split = 0.2\n",
    "test_split = 0.2"
   ]
  },
  {
   "cell_type": "code",
   "execution_count": 48,
   "id": "185570fc",
   "metadata": {},
   "outputs": [],
   "source": [
    "transform = transforms.Compose([transforms.Resize(256),\n",
    "                                transforms.CenterCrop(224),\n",
    "                                transforms.ToTensor(),\n",
    "                                transforms.Normalize(mean=[0.485, 0.456, 0.406], std=[0.229, 0.224, 0.225]),\n",
    "                                ])"
   ]
  },
  {
   "cell_type": "code",
   "execution_count": 49,
   "id": "57f4e896",
   "metadata": {},
   "outputs": [
    {
     "name": "stdout",
     "output_type": "stream",
     "text": [
      "Files already downloaded and verified\n",
      "Files already downloaded and verified\n"
     ]
    }
   ],
   "source": [
    "train_data = datasets.CIFAR10('./data', train=True, transform=transform, download=True)\n",
    "test_data = datasets.CIFAR10('./data', train=False, transform=transform, download=True)"
   ]
  },
  {
   "cell_type": "code",
   "execution_count": 50,
   "id": "2d4d4f2c",
   "metadata": {},
   "outputs": [
    {
     "name": "stdout",
     "output_type": "stream",
     "text": [
      "Full dataset length 60000\n"
     ]
    }
   ],
   "source": [
    "# Concatenate the datasets\n",
    "full_dataset = ConcatDataset([train_data, test_data])\n",
    "\n",
    "len_full_dataset = len(full_dataset)\n",
    "print(\"Full dataset length\", len_full_dataset)"
   ]
  },
  {
   "cell_type": "code",
   "execution_count": 51,
   "id": "30768aa8",
   "metadata": {},
   "outputs": [],
   "source": [
    "# Split data into training, validation and test datasets\n",
    "\n",
    "# Seed the generator to achieve the same splits everytime\n",
    "split_generator = torch.Generator().manual_seed(42)\n",
    "\n",
    "train_size = int(np.floor(train_split * len_full_dataset))\n",
    "valid_size = int(np.floor(valid_split * len_full_dataset))\n",
    "test_size = int(np.floor(test_split * len_full_dataset))\n",
    "\n",
    "train_dataset, valid_dataset, test_dataset = random_split(full_dataset, \n",
    "                                                               [train_size, valid_size, test_size], \n",
    "                                                               split_generator)"
   ]
  },
  {
   "cell_type": "code",
   "execution_count": 52,
   "id": "7973cd91",
   "metadata": {},
   "outputs": [
    {
     "name": "stdout",
     "output_type": "stream",
     "text": [
      "Train dataset length:  36000\n",
      "Validation dataset length:  12000\n",
      "Test dataset length:  12000\n"
     ]
    }
   ],
   "source": [
    "print(\"Train dataset length: \", len(train_dataset))\n",
    "print(\"Validation dataset length: \", len(valid_dataset))\n",
    "print(\"Test dataset length: \", len(test_dataset))"
   ]
  },
  {
   "cell_type": "code",
   "execution_count": 53,
   "id": "e65c9d8d",
   "metadata": {},
   "outputs": [],
   "source": [
    "train_loader = torch.utils.data.DataLoader(train_dataset, batch_size, shuffle=True)\n",
    "valid_loader = torch.utils.data.DataLoader(valid_dataset, batch_size, shuffle=True)\n",
    "test_loader = torch.utils.data.DataLoader(test_dataset, batch_size, shuffle=True)"
   ]
  },
  {
   "cell_type": "code",
   "execution_count": 54,
   "id": "4277ee1d",
   "metadata": {},
   "outputs": [],
   "source": [
    "# Image classes\n",
    "classes = ['airplane', 'automobile', 'bird', 'cat', 'deer', 'dog', 'frog', 'horse', 'ship', 'truck']"
   ]
  },
  {
   "cell_type": "markdown",
   "id": "946fd483",
   "metadata": {},
   "source": [
    "---\n",
    "### ResNet50 Model"
   ]
  },
  {
   "cell_type": "code",
   "execution_count": 55,
   "id": "08dac281",
   "metadata": {},
   "outputs": [],
   "source": [
    "# Load the pretrained model\n",
    "resnet50 = resnet50(weights=ResNet50_Weights.DEFAULT)"
   ]
  },
  {
   "cell_type": "code",
   "execution_count": 56,
   "id": "c41e8c03",
   "metadata": {},
   "outputs": [
    {
     "name": "stdout",
     "output_type": "stream",
     "text": [
      "ResNet(\n",
      "  (conv1): Conv2d(3, 64, kernel_size=(7, 7), stride=(2, 2), padding=(3, 3), bias=False)\n",
      "  (bn1): BatchNorm2d(64, eps=1e-05, momentum=0.1, affine=True, track_running_stats=True)\n",
      "  (relu): ReLU(inplace=True)\n",
      "  (maxpool): MaxPool2d(kernel_size=3, stride=2, padding=1, dilation=1, ceil_mode=False)\n",
      "  (layer1): Sequential(\n",
      "    (0): Bottleneck(\n",
      "      (conv1): Conv2d(64, 64, kernel_size=(1, 1), stride=(1, 1), bias=False)\n",
      "      (bn1): BatchNorm2d(64, eps=1e-05, momentum=0.1, affine=True, track_running_stats=True)\n",
      "      (conv2): Conv2d(64, 64, kernel_size=(3, 3), stride=(1, 1), padding=(1, 1), bias=False)\n",
      "      (bn2): BatchNorm2d(64, eps=1e-05, momentum=0.1, affine=True, track_running_stats=True)\n",
      "      (conv3): Conv2d(64, 256, kernel_size=(1, 1), stride=(1, 1), bias=False)\n",
      "      (bn3): BatchNorm2d(256, eps=1e-05, momentum=0.1, affine=True, track_running_stats=True)\n",
      "      (relu): ReLU(inplace=True)\n",
      "      (downsample): Sequential(\n",
      "        (0): Conv2d(64, 256, kernel_size=(1, 1), stride=(1, 1), bias=False)\n",
      "        (1): BatchNorm2d(256, eps=1e-05, momentum=0.1, affine=True, track_running_stats=True)\n",
      "      )\n",
      "    )\n",
      "    (1): Bottleneck(\n",
      "      (conv1): Conv2d(256, 64, kernel_size=(1, 1), stride=(1, 1), bias=False)\n",
      "      (bn1): BatchNorm2d(64, eps=1e-05, momentum=0.1, affine=True, track_running_stats=True)\n",
      "      (conv2): Conv2d(64, 64, kernel_size=(3, 3), stride=(1, 1), padding=(1, 1), bias=False)\n",
      "      (bn2): BatchNorm2d(64, eps=1e-05, momentum=0.1, affine=True, track_running_stats=True)\n",
      "      (conv3): Conv2d(64, 256, kernel_size=(1, 1), stride=(1, 1), bias=False)\n",
      "      (bn3): BatchNorm2d(256, eps=1e-05, momentum=0.1, affine=True, track_running_stats=True)\n",
      "      (relu): ReLU(inplace=True)\n",
      "    )\n",
      "    (2): Bottleneck(\n",
      "      (conv1): Conv2d(256, 64, kernel_size=(1, 1), stride=(1, 1), bias=False)\n",
      "      (bn1): BatchNorm2d(64, eps=1e-05, momentum=0.1, affine=True, track_running_stats=True)\n",
      "      (conv2): Conv2d(64, 64, kernel_size=(3, 3), stride=(1, 1), padding=(1, 1), bias=False)\n",
      "      (bn2): BatchNorm2d(64, eps=1e-05, momentum=0.1, affine=True, track_running_stats=True)\n",
      "      (conv3): Conv2d(64, 256, kernel_size=(1, 1), stride=(1, 1), bias=False)\n",
      "      (bn3): BatchNorm2d(256, eps=1e-05, momentum=0.1, affine=True, track_running_stats=True)\n",
      "      (relu): ReLU(inplace=True)\n",
      "    )\n",
      "  )\n",
      "  (layer2): Sequential(\n",
      "    (0): Bottleneck(\n",
      "      (conv1): Conv2d(256, 128, kernel_size=(1, 1), stride=(1, 1), bias=False)\n",
      "      (bn1): BatchNorm2d(128, eps=1e-05, momentum=0.1, affine=True, track_running_stats=True)\n",
      "      (conv2): Conv2d(128, 128, kernel_size=(3, 3), stride=(2, 2), padding=(1, 1), bias=False)\n",
      "      (bn2): BatchNorm2d(128, eps=1e-05, momentum=0.1, affine=True, track_running_stats=True)\n",
      "      (conv3): Conv2d(128, 512, kernel_size=(1, 1), stride=(1, 1), bias=False)\n",
      "      (bn3): BatchNorm2d(512, eps=1e-05, momentum=0.1, affine=True, track_running_stats=True)\n",
      "      (relu): ReLU(inplace=True)\n",
      "      (downsample): Sequential(\n",
      "        (0): Conv2d(256, 512, kernel_size=(1, 1), stride=(2, 2), bias=False)\n",
      "        (1): BatchNorm2d(512, eps=1e-05, momentum=0.1, affine=True, track_running_stats=True)\n",
      "      )\n",
      "    )\n",
      "    (1): Bottleneck(\n",
      "      (conv1): Conv2d(512, 128, kernel_size=(1, 1), stride=(1, 1), bias=False)\n",
      "      (bn1): BatchNorm2d(128, eps=1e-05, momentum=0.1, affine=True, track_running_stats=True)\n",
      "      (conv2): Conv2d(128, 128, kernel_size=(3, 3), stride=(1, 1), padding=(1, 1), bias=False)\n",
      "      (bn2): BatchNorm2d(128, eps=1e-05, momentum=0.1, affine=True, track_running_stats=True)\n",
      "      (conv3): Conv2d(128, 512, kernel_size=(1, 1), stride=(1, 1), bias=False)\n",
      "      (bn3): BatchNorm2d(512, eps=1e-05, momentum=0.1, affine=True, track_running_stats=True)\n",
      "      (relu): ReLU(inplace=True)\n",
      "    )\n",
      "    (2): Bottleneck(\n",
      "      (conv1): Conv2d(512, 128, kernel_size=(1, 1), stride=(1, 1), bias=False)\n",
      "      (bn1): BatchNorm2d(128, eps=1e-05, momentum=0.1, affine=True, track_running_stats=True)\n",
      "      (conv2): Conv2d(128, 128, kernel_size=(3, 3), stride=(1, 1), padding=(1, 1), bias=False)\n",
      "      (bn2): BatchNorm2d(128, eps=1e-05, momentum=0.1, affine=True, track_running_stats=True)\n",
      "      (conv3): Conv2d(128, 512, kernel_size=(1, 1), stride=(1, 1), bias=False)\n",
      "      (bn3): BatchNorm2d(512, eps=1e-05, momentum=0.1, affine=True, track_running_stats=True)\n",
      "      (relu): ReLU(inplace=True)\n",
      "    )\n",
      "    (3): Bottleneck(\n",
      "      (conv1): Conv2d(512, 128, kernel_size=(1, 1), stride=(1, 1), bias=False)\n",
      "      (bn1): BatchNorm2d(128, eps=1e-05, momentum=0.1, affine=True, track_running_stats=True)\n",
      "      (conv2): Conv2d(128, 128, kernel_size=(3, 3), stride=(1, 1), padding=(1, 1), bias=False)\n",
      "      (bn2): BatchNorm2d(128, eps=1e-05, momentum=0.1, affine=True, track_running_stats=True)\n",
      "      (conv3): Conv2d(128, 512, kernel_size=(1, 1), stride=(1, 1), bias=False)\n",
      "      (bn3): BatchNorm2d(512, eps=1e-05, momentum=0.1, affine=True, track_running_stats=True)\n",
      "      (relu): ReLU(inplace=True)\n",
      "    )\n",
      "  )\n",
      "  (layer3): Sequential(\n",
      "    (0): Bottleneck(\n",
      "      (conv1): Conv2d(512, 256, kernel_size=(1, 1), stride=(1, 1), bias=False)\n",
      "      (bn1): BatchNorm2d(256, eps=1e-05, momentum=0.1, affine=True, track_running_stats=True)\n",
      "      (conv2): Conv2d(256, 256, kernel_size=(3, 3), stride=(2, 2), padding=(1, 1), bias=False)\n",
      "      (bn2): BatchNorm2d(256, eps=1e-05, momentum=0.1, affine=True, track_running_stats=True)\n",
      "      (conv3): Conv2d(256, 1024, kernel_size=(1, 1), stride=(1, 1), bias=False)\n",
      "      (bn3): BatchNorm2d(1024, eps=1e-05, momentum=0.1, affine=True, track_running_stats=True)\n",
      "      (relu): ReLU(inplace=True)\n",
      "      (downsample): Sequential(\n",
      "        (0): Conv2d(512, 1024, kernel_size=(1, 1), stride=(2, 2), bias=False)\n",
      "        (1): BatchNorm2d(1024, eps=1e-05, momentum=0.1, affine=True, track_running_stats=True)\n",
      "      )\n",
      "    )\n",
      "    (1): Bottleneck(\n",
      "      (conv1): Conv2d(1024, 256, kernel_size=(1, 1), stride=(1, 1), bias=False)\n",
      "      (bn1): BatchNorm2d(256, eps=1e-05, momentum=0.1, affine=True, track_running_stats=True)\n",
      "      (conv2): Conv2d(256, 256, kernel_size=(3, 3), stride=(1, 1), padding=(1, 1), bias=False)\n",
      "      (bn2): BatchNorm2d(256, eps=1e-05, momentum=0.1, affine=True, track_running_stats=True)\n",
      "      (conv3): Conv2d(256, 1024, kernel_size=(1, 1), stride=(1, 1), bias=False)\n",
      "      (bn3): BatchNorm2d(1024, eps=1e-05, momentum=0.1, affine=True, track_running_stats=True)\n",
      "      (relu): ReLU(inplace=True)\n",
      "    )\n",
      "    (2): Bottleneck(\n",
      "      (conv1): Conv2d(1024, 256, kernel_size=(1, 1), stride=(1, 1), bias=False)\n",
      "      (bn1): BatchNorm2d(256, eps=1e-05, momentum=0.1, affine=True, track_running_stats=True)\n",
      "      (conv2): Conv2d(256, 256, kernel_size=(3, 3), stride=(1, 1), padding=(1, 1), bias=False)\n",
      "      (bn2): BatchNorm2d(256, eps=1e-05, momentum=0.1, affine=True, track_running_stats=True)\n",
      "      (conv3): Conv2d(256, 1024, kernel_size=(1, 1), stride=(1, 1), bias=False)\n",
      "      (bn3): BatchNorm2d(1024, eps=1e-05, momentum=0.1, affine=True, track_running_stats=True)\n",
      "      (relu): ReLU(inplace=True)\n",
      "    )\n",
      "    (3): Bottleneck(\n",
      "      (conv1): Conv2d(1024, 256, kernel_size=(1, 1), stride=(1, 1), bias=False)\n",
      "      (bn1): BatchNorm2d(256, eps=1e-05, momentum=0.1, affine=True, track_running_stats=True)\n",
      "      (conv2): Conv2d(256, 256, kernel_size=(3, 3), stride=(1, 1), padding=(1, 1), bias=False)\n",
      "      (bn2): BatchNorm2d(256, eps=1e-05, momentum=0.1, affine=True, track_running_stats=True)\n",
      "      (conv3): Conv2d(256, 1024, kernel_size=(1, 1), stride=(1, 1), bias=False)\n",
      "      (bn3): BatchNorm2d(1024, eps=1e-05, momentum=0.1, affine=True, track_running_stats=True)\n",
      "      (relu): ReLU(inplace=True)\n",
      "    )\n",
      "    (4): Bottleneck(\n",
      "      (conv1): Conv2d(1024, 256, kernel_size=(1, 1), stride=(1, 1), bias=False)\n",
      "      (bn1): BatchNorm2d(256, eps=1e-05, momentum=0.1, affine=True, track_running_stats=True)\n",
      "      (conv2): Conv2d(256, 256, kernel_size=(3, 3), stride=(1, 1), padding=(1, 1), bias=False)\n",
      "      (bn2): BatchNorm2d(256, eps=1e-05, momentum=0.1, affine=True, track_running_stats=True)\n",
      "      (conv3): Conv2d(256, 1024, kernel_size=(1, 1), stride=(1, 1), bias=False)\n",
      "      (bn3): BatchNorm2d(1024, eps=1e-05, momentum=0.1, affine=True, track_running_stats=True)\n",
      "      (relu): ReLU(inplace=True)\n",
      "    )\n",
      "    (5): Bottleneck(\n",
      "      (conv1): Conv2d(1024, 256, kernel_size=(1, 1), stride=(1, 1), bias=False)\n",
      "      (bn1): BatchNorm2d(256, eps=1e-05, momentum=0.1, affine=True, track_running_stats=True)\n",
      "      (conv2): Conv2d(256, 256, kernel_size=(3, 3), stride=(1, 1), padding=(1, 1), bias=False)\n",
      "      (bn2): BatchNorm2d(256, eps=1e-05, momentum=0.1, affine=True, track_running_stats=True)\n",
      "      (conv3): Conv2d(256, 1024, kernel_size=(1, 1), stride=(1, 1), bias=False)\n",
      "      (bn3): BatchNorm2d(1024, eps=1e-05, momentum=0.1, affine=True, track_running_stats=True)\n",
      "      (relu): ReLU(inplace=True)\n",
      "    )\n",
      "  )\n",
      "  (layer4): Sequential(\n",
      "    (0): Bottleneck(\n",
      "      (conv1): Conv2d(1024, 512, kernel_size=(1, 1), stride=(1, 1), bias=False)\n",
      "      (bn1): BatchNorm2d(512, eps=1e-05, momentum=0.1, affine=True, track_running_stats=True)\n",
      "      (conv2): Conv2d(512, 512, kernel_size=(3, 3), stride=(2, 2), padding=(1, 1), bias=False)\n",
      "      (bn2): BatchNorm2d(512, eps=1e-05, momentum=0.1, affine=True, track_running_stats=True)\n",
      "      (conv3): Conv2d(512, 2048, kernel_size=(1, 1), stride=(1, 1), bias=False)\n",
      "      (bn3): BatchNorm2d(2048, eps=1e-05, momentum=0.1, affine=True, track_running_stats=True)\n",
      "      (relu): ReLU(inplace=True)\n",
      "      (downsample): Sequential(\n",
      "        (0): Conv2d(1024, 2048, kernel_size=(1, 1), stride=(2, 2), bias=False)\n",
      "        (1): BatchNorm2d(2048, eps=1e-05, momentum=0.1, affine=True, track_running_stats=True)\n",
      "      )\n",
      "    )\n",
      "    (1): Bottleneck(\n",
      "      (conv1): Conv2d(2048, 512, kernel_size=(1, 1), stride=(1, 1), bias=False)\n",
      "      (bn1): BatchNorm2d(512, eps=1e-05, momentum=0.1, affine=True, track_running_stats=True)\n",
      "      (conv2): Conv2d(512, 512, kernel_size=(3, 3), stride=(1, 1), padding=(1, 1), bias=False)\n",
      "      (bn2): BatchNorm2d(512, eps=1e-05, momentum=0.1, affine=True, track_running_stats=True)\n",
      "      (conv3): Conv2d(512, 2048, kernel_size=(1, 1), stride=(1, 1), bias=False)\n",
      "      (bn3): BatchNorm2d(2048, eps=1e-05, momentum=0.1, affine=True, track_running_stats=True)\n",
      "      (relu): ReLU(inplace=True)\n",
      "    )\n",
      "    (2): Bottleneck(\n",
      "      (conv1): Conv2d(2048, 512, kernel_size=(1, 1), stride=(1, 1), bias=False)\n",
      "      (bn1): BatchNorm2d(512, eps=1e-05, momentum=0.1, affine=True, track_running_stats=True)\n",
      "      (conv2): Conv2d(512, 512, kernel_size=(3, 3), stride=(1, 1), padding=(1, 1), bias=False)\n",
      "      (bn2): BatchNorm2d(512, eps=1e-05, momentum=0.1, affine=True, track_running_stats=True)\n",
      "      (conv3): Conv2d(512, 2048, kernel_size=(1, 1), stride=(1, 1), bias=False)\n",
      "      (bn3): BatchNorm2d(2048, eps=1e-05, momentum=0.1, affine=True, track_running_stats=True)\n",
      "      (relu): ReLU(inplace=True)\n",
      "    )\n",
      "  )\n",
      "  (avgpool): AdaptiveAvgPool2d(output_size=(1, 1))\n",
      "  (fc): Linear(in_features=2048, out_features=1000, bias=True)\n",
      ")\n"
     ]
    }
   ],
   "source": [
    "# Print the model structure\n",
    "print(resnet50)"
   ]
  },
  {
   "cell_type": "code",
   "execution_count": 57,
   "id": "55ad4afa",
   "metadata": {},
   "outputs": [
    {
     "name": "stdout",
     "output_type": "stream",
     "text": [
      "Linear(in_features=2048, out_features=1000, bias=True)\n"
     ]
    }
   ],
   "source": [
    "print(resnet50.fc)"
   ]
  },
  {
   "cell_type": "code",
   "execution_count": 58,
   "id": "de390881",
   "metadata": {},
   "outputs": [],
   "source": [
    "# Freeze parameters\n",
    "# for param in resnet50.parameters():\n",
    "#     param.requires_grad = False"
   ]
  },
  {
   "cell_type": "markdown",
   "id": "6802fc0d",
   "metadata": {},
   "source": [
    "### ResNet50 Custom Classifier"
   ]
  },
  {
   "cell_type": "code",
   "execution_count": 59,
   "id": "a78dc7f5",
   "metadata": {},
   "outputs": [],
   "source": [
    "n_inputs = resnet50.fc.in_features\n",
    "\n",
    "fc = nn.Sequential(nn.Linear(n_inputs, 1024),\n",
    "                   nn.ReLU(),\n",
    "#                    nn.Dropout(0.5),\n",
    "                   nn.Linear(1024, 512),\n",
    "                   nn.ReLU(),\n",
    "#                    nn.Dropout(0.5),\n",
    "                   nn.Linear(512, 10))\n",
    "\n",
    "resnet50.fc = fc"
   ]
  },
  {
   "cell_type": "code",
   "execution_count": 60,
   "id": "73d8bfc3",
   "metadata": {},
   "outputs": [
    {
     "name": "stdout",
     "output_type": "stream",
     "text": [
      "Training on GPU ...\n"
     ]
    }
   ],
   "source": [
    "# check if CUDA is available\n",
    "train_on_gpu = torch.cuda.is_available()\n",
    "\n",
    "if not train_on_gpu:\n",
    "    print('Training on CPU ...')\n",
    "else:\n",
    "    print('Training on GPU ...')"
   ]
  },
  {
   "cell_type": "code",
   "execution_count": 61,
   "id": "37126924",
   "metadata": {},
   "outputs": [],
   "source": [
    "if train_on_gpu:\n",
    "    resnet50.cuda()"
   ]
  },
  {
   "cell_type": "code",
   "execution_count": 62,
   "id": "c9ede3d1",
   "metadata": {},
   "outputs": [
    {
     "name": "stdout",
     "output_type": "stream",
     "text": [
      "Sequential(\n",
      "  (0): Linear(in_features=2048, out_features=1024, bias=True)\n",
      "  (1): ReLU()\n",
      "  (2): Linear(in_features=1024, out_features=512, bias=True)\n",
      "  (3): ReLU()\n",
      "  (4): Linear(in_features=512, out_features=10, bias=True)\n",
      ")\n"
     ]
    }
   ],
   "source": [
    "print(resnet50.fc)"
   ]
  },
  {
   "cell_type": "markdown",
   "id": "4bcc4d2c",
   "metadata": {},
   "source": [
    "### Loss Function & Optimizer"
   ]
  },
  {
   "cell_type": "code",
   "execution_count": 63,
   "id": "83a6322b",
   "metadata": {},
   "outputs": [],
   "source": [
    "criterion = nn.CrossEntropyLoss()\n",
    "\n",
    "# optimizer = optim.Adam(resnet50.fc.parameters(), lr=0.001)\n",
    "optimizer = optim.Adam(resnet50.parameters(), lr=0.001)"
   ]
  },
  {
   "cell_type": "markdown",
   "id": "97305425",
   "metadata": {},
   "source": [
    "### Train the Network"
   ]
  },
  {
   "cell_type": "code",
   "execution_count": 64,
   "id": "ad42c87e",
   "metadata": {},
   "outputs": [
    {
     "name": "stdout",
     "output_type": "stream",
     "text": [
      "Epoch: 1 \tTraining Loss: 0.911291 \tValidation Loss: 0.680891\n",
      "Validation loss decreased (inf --> 0.680891). Saving model ...\n",
      "Epoch: 2 \tTraining Loss: 0.526497 \tValidation Loss: 0.476980\n",
      "Validation loss decreased (0.680891 --> 0.476980). Saving model ...\n",
      "Epoch: 3 \tTraining Loss: 0.397616 \tValidation Loss: 0.427434\n",
      "Validation loss decreased (0.476980 --> 0.427434). Saving model ...\n",
      "Epoch: 4 \tTraining Loss: 0.309195 \tValidation Loss: 0.381226\n",
      "Validation loss decreased (0.427434 --> 0.381226). Saving model ...\n",
      "Epoch: 5 \tTraining Loss: 0.246107 \tValidation Loss: 0.411232\n",
      "Epoch: 6 \tTraining Loss: 0.196666 \tValidation Loss: 0.348200\n",
      "Validation loss decreased (0.381226 --> 0.348200). Saving model ...\n",
      "Epoch: 7 \tTraining Loss: 0.159544 \tValidation Loss: 0.373308\n",
      "Epoch: 8 \tTraining Loss: 0.138508 \tValidation Loss: 0.374540\n",
      "Epoch: 9 \tTraining Loss: 0.104217 \tValidation Loss: 0.366921\n",
      "Epoch: 10 \tTraining Loss: 0.096303 \tValidation Loss: 0.391237\n"
     ]
    }
   ],
   "source": [
    "n_epochs = 10\n",
    "\n",
    "valid_loss_min = np.Inf\n",
    "\n",
    "train_losses, valid_losses = [], []\n",
    "\n",
    "for epoch in range(1, n_epochs+1):\n",
    "    train_loss = 0.0\n",
    "    valid_loss = 0.0\n",
    "    \n",
    "    ############# Train the model #############\n",
    "    resnet50.train()\n",
    "    for images, labels in train_loader:\n",
    "        if train_on_gpu:\n",
    "            images, labels = images.cuda(), labels.cuda()\n",
    "            \n",
    "        optimizer.zero_grad()\n",
    "        \n",
    "        output = resnet50(images)\n",
    "        loss = criterion(output, labels)\n",
    "        loss.backward()\n",
    "        optimizer.step()\n",
    "        \n",
    "        train_loss += loss.item() * images.size(0)\n",
    "        \n",
    "    ############# Train the model #############\n",
    "    with torch.no_grad():\n",
    "        resnet50.eval()\n",
    "        for images, labels in valid_loader:\n",
    "            if train_on_gpu:\n",
    "                images, labels = images.cuda(), labels.cuda()\n",
    "                \n",
    "            output = resnet50(images)\n",
    "            loss = criterion(output, labels)\n",
    "            valid_loss += loss.item() * images.size(0)\n",
    "            \n",
    "    # Calculate average losses\n",
    "    train_loss = train_loss/len(train_loader.sampler)\n",
    "    valid_loss = valid_loss/len(valid_loader.sampler)\n",
    "    \n",
    "    train_losses.append(train_loss)\n",
    "    valid_losses.append(valid_loss)\n",
    "    \n",
    "    print('Epoch: {} \\tTraining Loss: {:.6f} \\tValidation Loss: {:.6f}'.format(\n",
    "        epoch, train_loss, valid_loss))\n",
    "    \n",
    "    # Save model when validation loss decreases\n",
    "    if valid_loss <= valid_loss_min:\n",
    "        print('Validation loss decreased ({:.6f} --> {:.6f}). Saving model ...'.format(valid_loss_min,valid_loss))\n",
    "        \n",
    "        torch.save(resnet50.state_dict(), 'model_resnet50.pt')\n",
    "        valid_loss_min = valid_loss"
   ]
  },
  {
   "cell_type": "code",
   "execution_count": 65,
   "id": "af0d709d",
   "metadata": {},
   "outputs": [
    {
     "data": {
      "image/png": "[encoded data removed]",
      "text/plain": [
       "<Figure size 640x480 with 1 Axes>"
      ]
     },
     "metadata": {},
     "output_type": "display_data"
    }
   ],
   "source": [
    "plt.plot(train_losses, label='Training loss')\n",
    "plt.plot(valid_losses, label='Validation loss')\n",
    "plt.legend(frameon=False)\n",
    "plt.xticks(range(10))\n",
    "plt.show()"
   ]
  },
  {
   "cell_type": "markdown",
   "id": "40f7be39",
   "metadata": {},
   "source": [
    "### Load the Model with Lowest Validation Loss"
   ]
  },
  {
   "cell_type": "code",
   "execution_count": 66,
   "id": "d92c2e93",
   "metadata": {},
   "outputs": [
    {
     "data": {
      "text/plain": [
       "<All keys matched successfully>"
      ]
     },
     "execution_count": 66,
     "metadata": {},
     "output_type": "execute_result"
    }
   ],
   "source": [
    "resnet50.load_state_dict(torch.load('model_resnet50.pt'))"
   ]
  },
  {
   "cell_type": "markdown",
   "id": "804614e7",
   "metadata": {},
   "source": [
    "### Test the Trained Network"
   ]
  },
  {
   "cell_type": "code",
   "execution_count": 67,
   "id": "1d6398f4",
   "metadata": {},
   "outputs": [
    {
     "name": "stdout",
     "output_type": "stream",
     "text": [
      "Test Loss: 0.362343\n",
      "\n"
     ]
    }
   ],
   "source": [
    "y_pred = torch.empty((0,10))\n",
    "y_true = torch.empty((0,1))\n",
    "\n",
    "test_loss = 0.0\n",
    "\n",
    "with torch.no_grad():\n",
    "    resnet50.eval()\n",
    "    \n",
    "    for images, labels in test_loader:\n",
    "        if train_on_gpu:\n",
    "            images, labels = images.cuda(), labels.cuda()\n",
    "            \n",
    "        output = resnet50(images)\n",
    "        loss = criterion(output, labels)\n",
    "        test_loss += loss.item() * images.size(0)\n",
    "\n",
    "        y_pred = torch.vstack([y_pred, output.cpu()])\n",
    "        y_true = torch.vstack([y_true, labels.view(-1,1).cpu()])\n",
    "        \n",
    "# average test loss\n",
    "test_loss = test_loss/len(test_loader.dataset)\n",
    "print('Test Loss: {:.6f}\\n'.format(test_loss))"
   ]
  },
  {
   "cell_type": "code",
   "execution_count": 68,
   "id": "71a690f7",
   "metadata": {},
   "outputs": [
    {
     "name": "stdout",
     "output_type": "stream",
     "text": [
      "Test Accuracy of   airplane: 87.02%\n",
      "Test Accuracy of automobile: 96.56%\n",
      "Test Accuracy of       bird: 86.27%\n",
      "Test Accuracy of        cat: 71.43%\n",
      "Test Accuracy of       deer: 88.09%\n",
      "Test Accuracy of        dog: 90.29%\n",
      "Test Accuracy of       frog: 91.93%\n",
      "Test Accuracy of      horse: 91.62%\n",
      "Test Accuracy of       ship: 95.60%\n",
      "Test Accuracy of      truck: 86.45%\n",
      "\n",
      "Test Accuracy (Overall): 88.55% \n"
     ]
    }
   ],
   "source": [
    "_, pred = torch.max(y_pred, 1)\n",
    "\n",
    "for i in range(10):\n",
    "    class_accuracies = multiclass_accuracy(pred, torch.squeeze(y_true).to(torch.int64), average=None, num_classes=10)\n",
    "    \n",
    "    print('Test Accuracy of %10s: %.2f%%' % (classes[i], 100 * class_accuracies[i].item()))\n",
    "\n",
    "overall_accuracy = multiclass_accuracy(pred, torch.squeeze(y_true).to(torch.int64))    \n",
    "print('\\nTest Accuracy (Overall): %.2f%% ' % (100. * overall_accuracy.item()))"
   ]
  },
  {
   "cell_type": "markdown",
   "id": "b847ccfb",
   "metadata": {},
   "source": [
    "---"
   ]
  },
  {
   "cell_type": "markdown",
   "id": "1ef13e80",
   "metadata": {},
   "source": [
    "### VGG19 Model"
   ]
  },
  {
   "cell_type": "code",
   "execution_count": 70,
   "id": "2af16269",
   "metadata": {},
   "outputs": [],
   "source": [
    "# Load the pretrained model\n",
    "vgg19 = vgg19(weights=VGG19_Weights.DEFAULT)"
   ]
  },
  {
   "cell_type": "code",
   "execution_count": 71,
   "id": "8bb91c74",
   "metadata": {},
   "outputs": [
    {
     "name": "stdout",
     "output_type": "stream",
     "text": [
      "VGG(\n",
      "  (features): Sequential(\n",
      "    (0): Conv2d(3, 64, kernel_size=(3, 3), stride=(1, 1), padding=(1, 1))\n",
      "    (1): ReLU(inplace=True)\n",
      "    (2): Conv2d(64, 64, kernel_size=(3, 3), stride=(1, 1), padding=(1, 1))\n",
      "    (3): ReLU(inplace=True)\n",
      "    (4): MaxPool2d(kernel_size=2, stride=2, padding=0, dilation=1, ceil_mode=False)\n",
      "    (5): Conv2d(64, 128, kernel_size=(3, 3), stride=(1, 1), padding=(1, 1))\n",
      "    (6): ReLU(inplace=True)\n",
      "    (7): Conv2d(128, 128, kernel_size=(3, 3), stride=(1, 1), padding=(1, 1))\n",
      "    (8): ReLU(inplace=True)\n",
      "    (9): MaxPool2d(kernel_size=2, stride=2, padding=0, dilation=1, ceil_mode=False)\n",
      "    (10): Conv2d(128, 256, kernel_size=(3, 3), stride=(1, 1), padding=(1, 1))\n",
      "    (11): ReLU(inplace=True)\n",
      "    (12): Conv2d(256, 256, kernel_size=(3, 3), stride=(1, 1), padding=(1, 1))\n",
      "    (13): ReLU(inplace=True)\n",
      "    (14): Conv2d(256, 256, kernel_size=(3, 3), stride=(1, 1), padding=(1, 1))\n",
      "    (15): ReLU(inplace=True)\n",
      "    (16): Conv2d(256, 256, kernel_size=(3, 3), stride=(1, 1), padding=(1, 1))\n",
      "    (17): ReLU(inplace=True)\n",
      "    (18): MaxPool2d(kernel_size=2, stride=2, padding=0, dilation=1, ceil_mode=False)\n",
      "    (19): Conv2d(256, 512, kernel_size=(3, 3), stride=(1, 1), padding=(1, 1))\n",
      "    (20): ReLU(inplace=True)\n",
      "    (21): Conv2d(512, 512, kernel_size=(3, 3), stride=(1, 1), padding=(1, 1))\n",
      "    (22): ReLU(inplace=True)\n",
      "    (23): Conv2d(512, 512, kernel_size=(3, 3), stride=(1, 1), padding=(1, 1))\n",
      "    (24): ReLU(inplace=True)\n",
      "    (25): Conv2d(512, 512, kernel_size=(3, 3), stride=(1, 1), padding=(1, 1))\n",
      "    (26): ReLU(inplace=True)\n",
      "    (27): MaxPool2d(kernel_size=2, stride=2, padding=0, dilation=1, ceil_mode=False)\n",
      "    (28): Conv2d(512, 512, kernel_size=(3, 3), stride=(1, 1), padding=(1, 1))\n",
      "    (29): ReLU(inplace=True)\n",
      "    (30): Conv2d(512, 512, kernel_size=(3, 3), stride=(1, 1), padding=(1, 1))\n",
      "    (31): ReLU(inplace=True)\n",
      "    (32): Conv2d(512, 512, kernel_size=(3, 3), stride=(1, 1), padding=(1, 1))\n",
      "    (33): ReLU(inplace=True)\n",
      "    (34): Conv2d(512, 512, kernel_size=(3, 3), stride=(1, 1), padding=(1, 1))\n",
      "    (35): ReLU(inplace=True)\n",
      "    (36): MaxPool2d(kernel_size=2, stride=2, padding=0, dilation=1, ceil_mode=False)\n",
      "  )\n",
      "  (avgpool): AdaptiveAvgPool2d(output_size=(7, 7))\n",
      "  (classifier): Sequential(\n",
      "    (0): Linear(in_features=25088, out_features=4096, bias=True)\n",
      "    (1): ReLU(inplace=True)\n",
      "    (2): Dropout(p=0.5, inplace=False)\n",
      "    (3): Linear(in_features=4096, out_features=4096, bias=True)\n",
      "    (4): ReLU(inplace=True)\n",
      "    (5): Dropout(p=0.5, inplace=False)\n",
      "    (6): Linear(in_features=4096, out_features=1000, bias=True)\n",
      "  )\n",
      ")\n"
     ]
    }
   ],
   "source": [
    "# Print the model structure\n",
    "print(vgg19)"
   ]
  },
  {
   "cell_type": "markdown",
   "id": "b1195d15",
   "metadata": {},
   "source": [
    "### VGG19 Custom Classifier"
   ]
  },
  {
   "cell_type": "code",
   "execution_count": 72,
   "id": "429fc6dd",
   "metadata": {},
   "outputs": [],
   "source": [
    "# Freeze training for all \"features\" layers\n",
    "for param in vgg19.features.parameters():\n",
    "    param.requires_grad = False"
   ]
  },
  {
   "cell_type": "code",
   "execution_count": 73,
   "id": "24d7a179",
   "metadata": {},
   "outputs": [],
   "source": [
    "n_inputs = vgg19.classifier[0].in_features\n",
    "\n",
    "fc = nn.Sequential(nn.Linear(n_inputs, 1024),\n",
    "                   nn.ReLU(inplace=True),\n",
    "                   nn.Dropout(p=0.5),\n",
    "                   nn.Linear(1024, 512),\n",
    "                   nn.ReLU(inplace=True),\n",
    "                   nn.Dropout(p=0.5),\n",
    "                   nn.Linear(512, 10))\n",
    "\n",
    "vgg19.classifier = fc"
   ]
  },
  {
   "cell_type": "code",
   "execution_count": 74,
   "id": "65348b64",
   "metadata": {},
   "outputs": [
    {
     "name": "stdout",
     "output_type": "stream",
     "text": [
      "Training on GPU ...\n"
     ]
    }
   ],
   "source": [
    "# check if CUDA is available\n",
    "train_on_gpu = torch.cuda.is_available()\n",
    "\n",
    "if not train_on_gpu:\n",
    "    print('Training on CPU ...')\n",
    "else:\n",
    "    print('Training on GPU ...')"
   ]
  },
  {
   "cell_type": "code",
   "execution_count": 75,
   "id": "ac45218b",
   "metadata": {},
   "outputs": [],
   "source": [
    "if train_on_gpu:\n",
    "    vgg19.cuda()"
   ]
  },
  {
   "cell_type": "code",
   "execution_count": 76,
   "id": "600d37f4",
   "metadata": {},
   "outputs": [
    {
     "name": "stdout",
     "output_type": "stream",
     "text": [
      "Sequential(\n",
      "  (0): Linear(in_features=25088, out_features=1024, bias=True)\n",
      "  (1): ReLU(inplace=True)\n",
      "  (2): Dropout(p=0.5, inplace=False)\n",
      "  (3): Linear(in_features=1024, out_features=512, bias=True)\n",
      "  (4): ReLU(inplace=True)\n",
      "  (5): Dropout(p=0.5, inplace=False)\n",
      "  (6): Linear(in_features=512, out_features=10, bias=True)\n",
      ")\n"
     ]
    }
   ],
   "source": [
    "print(vgg19.classifier)"
   ]
  },
  {
   "cell_type": "markdown",
   "id": "282916a3",
   "metadata": {},
   "source": [
    "### Loss Function & Optimizer"
   ]
  },
  {
   "cell_type": "code",
   "execution_count": 77,
   "id": "869516fd",
   "metadata": {},
   "outputs": [],
   "source": [
    "criterion_2 = nn.CrossEntropyLoss()\n",
    "\n",
    "optimizer_2 = optim.Adam(vgg19.parameters(), lr=0.001)"
   ]
  },
  {
   "cell_type": "markdown",
   "id": "a6a83fc5",
   "metadata": {},
   "source": [
    "### Train the Network"
   ]
  },
  {
   "cell_type": "code",
   "execution_count": 78,
   "id": "42d7b6f4",
   "metadata": {
    "scrolled": true
   },
   "outputs": [
    {
     "name": "stdout",
     "output_type": "stream",
     "text": [
      "Epoch: 1 \tTraining Loss: 0.758496 \tValidation Loss: 0.475831\n",
      "Validation loss decreased (inf --> 0.475831). Saving model ...\n",
      "Epoch: 2 \tTraining Loss: 0.525372 \tValidation Loss: 0.476123\n",
      "Epoch: 3 \tTraining Loss: 0.440998 \tValidation Loss: 0.441998\n",
      "Validation loss decreased (0.475831 --> 0.441998). Saving model ...\n",
      "Epoch: 4 \tTraining Loss: 0.385494 \tValidation Loss: 0.460373\n",
      "Epoch: 5 \tTraining Loss: 0.349347 \tValidation Loss: 0.463658\n",
      "Epoch: 6 \tTraining Loss: 0.333999 \tValidation Loss: 0.485902\n",
      "Epoch: 7 \tTraining Loss: 0.316971 \tValidation Loss: 0.484615\n",
      "Epoch: 8 \tTraining Loss: 0.288857 \tValidation Loss: 0.484028\n",
      "Epoch: 9 \tTraining Loss: 0.278182 \tValidation Loss: 0.519969\n",
      "Epoch: 10 \tTraining Loss: 0.263001 \tValidation Loss: 0.522400\n"
     ]
    }
   ],
   "source": [
    "n_epochs_2 = 10\n",
    "\n",
    "valid_loss_min_2 = np.Inf\n",
    "\n",
    "train_losses_2, valid_losses_2 = [], []\n",
    "\n",
    "for epoch in range(1, n_epochs_2+1):\n",
    "    train_loss = 0.0\n",
    "    valid_loss = 0.0\n",
    "    \n",
    "    ############# Train the model #############\n",
    "    vgg19.train()\n",
    "    for images, labels in train_loader:\n",
    "        if train_on_gpu:\n",
    "            images, labels = images.cuda(), labels.cuda()\n",
    "            \n",
    "        optimizer_2.zero_grad()\n",
    "        \n",
    "        output = vgg19(images)\n",
    "        loss = criterion_2(output, labels)\n",
    "        loss.backward()\n",
    "        optimizer_2.step()\n",
    "        \n",
    "        train_loss += loss.item() * images.size(0)\n",
    "        \n",
    "    ############# Train the model #############\n",
    "    with torch.no_grad():\n",
    "        vgg19.eval()\n",
    "        for images, labels in valid_loader:\n",
    "            if train_on_gpu:\n",
    "                images, labels = images.cuda(), labels.cuda()\n",
    "                \n",
    "            output = vgg19(images)\n",
    "            loss = criterion_2(output, labels)\n",
    "            valid_loss += loss.item() * images.size(0)\n",
    "            \n",
    "    # Calculate average losses\n",
    "    train_loss = train_loss/len(train_loader.sampler)\n",
    "    valid_loss = valid_loss/len(valid_loader.sampler)\n",
    "    \n",
    "    train_losses_2.append(train_loss)\n",
    "    valid_losses_2.append(valid_loss)\n",
    "    \n",
    "    print('Epoch: {} \\tTraining Loss: {:.6f} \\tValidation Loss: {:.6f}'.format(\n",
    "        epoch, train_loss, valid_loss))\n",
    "    \n",
    "    # Save model when validation loss decreases\n",
    "    if valid_loss <= valid_loss_min_2:\n",
    "        print('Validation loss decreased ({:.6f} --> {:.6f}). Saving model ...'.format(valid_loss_min_2,valid_loss))\n",
    "        \n",
    "        torch.save(vgg19.state_dict(), 'model_vgg19.pt')\n",
    "        valid_loss_min_2 = valid_loss"
   ]
  },
  {
   "cell_type": "code",
   "execution_count": 80,
   "id": "64fb3bb2",
   "metadata": {},
   "outputs": [
    {
     "data": {
      "image/png": "[encoded data removed]",
      "text/plain": [
       "<Figure size 640x480 with 1 Axes>"
      ]
     },
     "metadata": {},
     "output_type": "display_data"
    }
   ],
   "source": [
    "plt.plot(train_losses_2, label='Training loss')\n",
    "plt.plot(valid_losses_2, label='Validation loss')\n",
    "plt.legend(frameon=False)\n",
    "plt.xticks(range(10))\n",
    "plt.show()"
   ]
  },
  {
   "cell_type": "markdown",
   "id": "02110529",
   "metadata": {},
   "source": [
    "### Load the Model with Lowest Validation Loss"
   ]
  },
  {
   "cell_type": "code",
   "execution_count": 81,
   "id": "73fb9699",
   "metadata": {},
   "outputs": [
    {
     "data": {
      "text/plain": [
       "<All keys matched successfully>"
      ]
     },
     "execution_count": 81,
     "metadata": {},
     "output_type": "execute_result"
    }
   ],
   "source": [
    "vgg19.load_state_dict(torch.load('model_vgg19.pt'))"
   ]
  },
  {
   "cell_type": "markdown",
   "id": "1dca5fc3",
   "metadata": {},
   "source": [
    "### Test the Trained Network"
   ]
  },
  {
   "cell_type": "code",
   "execution_count": 82,
   "id": "d55c6d19",
   "metadata": {},
   "outputs": [
    {
     "name": "stdout",
     "output_type": "stream",
     "text": [
      "Test Loss: 0.458340\n",
      "\n"
     ]
    }
   ],
   "source": [
    "y_pred = torch.empty((0,10))\n",
    "y_true = torch.empty((0,1))\n",
    "\n",
    "test_loss = 0.0\n",
    "\n",
    "with torch.no_grad():\n",
    "    vgg19.eval()\n",
    "    \n",
    "    for images, labels in test_loader:\n",
    "        if train_on_gpu:\n",
    "            images, labels = images.cuda(), labels.cuda()\n",
    "            \n",
    "        output = vgg19(images)\n",
    "        loss = criterion_2(output, labels)\n",
    "        test_loss += loss.item() * images.size(0)\n",
    "\n",
    "        y_pred = torch.vstack([y_pred, output.cpu()])\n",
    "        y_true = torch.vstack([y_true, labels.view(-1,1).cpu()])\n",
    "        \n",
    "# average test loss\n",
    "test_loss = test_loss/len(test_loader.dataset)\n",
    "print('Test Loss: {:.6f}\\n'.format(test_loss))"
   ]
  },
  {
   "cell_type": "code",
   "execution_count": 83,
   "id": "2d9041d3",
   "metadata": {},
   "outputs": [
    {
     "name": "stdout",
     "output_type": "stream",
     "text": [
      "Test Accuracy of   airplane: 77.25%\n",
      "Test Accuracy of automobile: 95.35%\n",
      "Test Accuracy of       bird: 77.17%\n",
      "Test Accuracy of        cat: 74.32%\n",
      "Test Accuracy of       deer: 85.05%\n",
      "Test Accuracy of        dog: 76.51%\n",
      "Test Accuracy of       frog: 91.93%\n",
      "Test Accuracy of      horse: 87.59%\n",
      "Test Accuracy of       ship: 94.77%\n",
      "Test Accuracy of      truck: 91.10%\n",
      "\n",
      "Test Accuracy (Overall): 85.13% \n"
     ]
    }
   ],
   "source": [
    "_, pred = torch.max(y_pred, 1)\n",
    "\n",
    "for i in range(10):\n",
    "    class_accuracies = multiclass_accuracy(pred, torch.squeeze(y_true).to(torch.int64), average=None, num_classes=10)\n",
    "    \n",
    "    print('Test Accuracy of %10s: %.2f%%' % (classes[i], 100 * class_accuracies[i].item()))\n",
    "\n",
    "overall_accuracy = multiclass_accuracy(pred, torch.squeeze(y_true).to(torch.int64))    \n",
    "print('\\nTest Accuracy (Overall): %.2f%% ' % (100. * overall_accuracy.item()))"
   ]
  },
  {
   "cell_type": "code",
   "execution_count": null,
   "id": "fdbc5194",
   "metadata": {},
   "outputs": [],
   "source": []
  }
 ],
 "metadata": {
  "kernelspec": {
   "display_name": "Python 3 (ipykernel)",
   "language": "python",
   "name": "python3"
  },
  "language_info": {
   "codemirror_mode": {
    "name": "ipython",
    "version": 3
   },
   "file_extension": ".py",
   "mimetype": "text/x-python",
   "name": "python",
   "nbconvert_exporter": "python",
   "pygments_lexer": "ipython3",
   "version": "3.8.18"
  }
 },
 "nbformat": 4,
 "nbformat_minor": 5
}
