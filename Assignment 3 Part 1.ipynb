{
 "cells": [
  {
   "cell_type": "markdown",
   "id": "dbddbc7f-f43d-41a5-b269-2f7950dd8e6b",
   "metadata": {},
   "source": [
    "# CNN for Image Classification"
   ]
  },
  {
   "cell_type": "markdown",
   "id": "d2a53b5f-d92b-4699-8888-cfeb9b27fca3",
   "metadata": {},
   "source": [
    "### Import Libraries"
   ]
  },
  {
   "cell_type": "code",
   "execution_count": null,
   "id": "7dd285de-2234-453d-a7aa-3896766b868f",
   "metadata": {},
   "outputs": [],
   "source": [
    "import torch\n",
    "import numpy as np\n",
    "import matplotlib.pyplot as plt\n",
    "\n",
    "from torchvision import datasets\n",
    "import torchvision.transforms as transforms\n",
    "from torch.utils.data import random_split, ConcatDataset\n",
    "\n",
    "import torch.nn as nn\n",
    "import torch.nn.functional as F\n",
    "import torch.optim as optim\n",
    "\n",
    "from torcheval.metrics.functional import (multiclass_accuracy, \n",
    "                                          multiclass_confusion_matrix, \n",
    "                                          multiclass_precision, \n",
    "                                          multiclass_recall)\n",
    "from sklearn.metrics import ConfusionMatrixDisplay, recall_score, precision_score, accuracy_score"
   ]
  },
  {
   "cell_type": "markdown",
   "id": "6f8b2158-3a84-4c9b-96f7-c8686c82ed4d",
   "metadata": {},
   "source": [
    "### Load the data"
   ]
  },
  {
   "cell_type": "code",
   "execution_count": null,
   "id": "6d8dcac7-05fa-478b-90bd-66d5679e20f5",
   "metadata": {},
   "outputs": [],
   "source": [
    "# Batch size for training, validation and testing datasets\n",
    "batch_size = 64\n",
    "\n",
    "# Percentages for training, validation and training sets\n",
    "train_split = 0.6\n",
    "valid_split = 0.2\n",
    "test_split = 0.2"
   ]
  },
  {
   "cell_type": "code",
   "execution_count": null,
   "id": "fc9d32a8-84e8-4fdb-b70a-c0733666ff28",
   "metadata": {},
   "outputs": [],
   "source": [
    "transform = transforms.Compose([transforms.ToTensor(),\n",
    "                                transforms.Normalize((0.5, 0.5, 0.5), (0.5, 0.5, 0.5))\n",
    "                                ])"
   ]
  },
  {
   "cell_type": "code",
   "execution_count": null,
   "id": "44d82299-0957-4591-9151-32c6f63e9496",
   "metadata": {},
   "outputs": [],
   "source": [
    "train_data = datasets.CIFAR10('./data', train=True, transform=transform, download=True)\n",
    "test_data = datasets.CIFAR10('./data', train=False, transform=transform, download=True)"
   ]
  },
  {
   "cell_type": "code",
   "execution_count": null,
   "id": "a9653840-df5f-4019-84ed-70842df14e7a",
   "metadata": {},
   "outputs": [],
   "source": [
    "# Concatenate the datasets\n",
    "full_dataset = ConcatDataset([train_data, test_data])\n",
    "\n",
    "len_full_dataset = len(full_dataset)\n",
    "print(\"Full dataset length\", len_full_dataset)"
   ]
  },
  {
   "cell_type": "code",
   "execution_count": null,
   "id": "ffcf7030-171e-49a2-9c65-471737a1f1cf",
   "metadata": {},
   "outputs": [],
   "source": [
    "# Split data into training, validation and test datasets\n",
    "\n",
    "# Seed the generator to achieve the same splits everytime\n",
    "split_generator = torch.Generator().manual_seed(42) \n",
    "\n",
    "train_size = int(np.floor(train_split * len_full_dataset))\n",
    "valid_size = int(np.floor(valid_split * len_full_dataset))\n",
    "test_size = int(np.floor(test_split * len_full_dataset))\n",
    "\n",
    "train_dataset, valid_dataset, test_dataset = random_split(full_dataset, \n",
    "                                                               [train_size, valid_size, test_size], \n",
    "                                                               split_generator)"
   ]
  },
  {
   "cell_type": "code",
   "execution_count": null,
   "id": "21c2e1e3-0d32-45c9-b1db-a97c113fa8f9",
   "metadata": {},
   "outputs": [],
   "source": [
    "print(\"Train dataset length: \", len(train_dataset))\n",
    "print(\"Validation dataset length: \", len(valid_dataset))\n",
    "print(\"Test dataset length: \", len(test_dataset))"
   ]
  },
  {
   "cell_type": "code",
   "execution_count": null,
   "id": "621e647a-2bce-4d00-a63e-9dae0e5d791d",
   "metadata": {},
   "outputs": [],
   "source": [
    "train_loader = torch.utils.data.DataLoader(train_dataset, batch_size, shuffle=True)\n",
    "valid_loader = torch.utils.data.DataLoader(valid_dataset, batch_size, shuffle=True)\n",
    "test_loader = torch.utils.data.DataLoader(test_dataset, batch_size, shuffle=True)"
   ]
  },
  {
   "cell_type": "code",
   "execution_count": null,
   "id": "53ef5b43-e8fa-42cb-a2c7-f0241d44dcd0",
   "metadata": {},
   "outputs": [],
   "source": [
    "# Image classes\n",
    "classes = ['airplane', 'automobile', 'bird', 'cat', 'deer', 'dog', 'frog', 'horse', 'ship', 'truck']"
   ]
  },
  {
   "cell_type": "markdown",
   "id": "301f9660-749d-4a5d-98d4-3c8342f60eda",
   "metadata": {},
   "source": [
    "### Visualize a batch from dataset"
   ]
  },
  {
   "cell_type": "code",
   "execution_count": null,
   "id": "011b4a72-8dc9-48c3-85c1-a33e9a332a69",
   "metadata": {},
   "outputs": [],
   "source": [
    "def imshow(img):\n",
    "    # Un-normalize the images\n",
    "    img = img * 0.5 + 0.5\n",
    "    plt.imshow(np.transpose(img, (1, 2, 0))) # Change the shape"
   ]
  },
  {
   "cell_type": "code",
   "execution_count": null,
   "id": "7b1d60ff-155f-47cb-ad57-fb72192057c5",
   "metadata": {},
   "outputs": [],
   "source": [
    "images, labels = next(iter(train_loader))\n",
    "images = images.numpy()\n",
    "\n",
    "fig = plt.figure(figsize=(25, 4))\n",
    "for idx in np.arange(20):\n",
    "    ax = fig.add_subplot(2, 20//2, idx+1, xticks=[], yticks=[])\n",
    "    imshow(images[idx])\n",
    "    ax.set_title(classes[labels[idx]])"
   ]
  },
  {
   "cell_type": "code",
   "execution_count": null,
   "id": "ef7ac4aa-a668-4fbd-8fbe-81f765fb10f2",
   "metadata": {},
   "outputs": [],
   "source": [
    "print(\"Batch Shape: \", images.shape)"
   ]
  },
  {
   "cell_type": "markdown",
   "id": "f633ac69-f917-4a16-9f52-73c184f50840",
   "metadata": {},
   "source": [
    "### Define the Network Architecture"
   ]
  },
  {
   "cell_type": "code",
   "execution_count": null,
   "id": "16aba18f-edb1-4b04-81d5-07b03e3229cb",
   "metadata": {},
   "outputs": [],
   "source": [
    "class Net(nn.Module):\n",
    "    def __init__(self):\n",
    "        super(Net, self).__init__()\n",
    "        \n",
    "        # First convolution block\n",
    "        self.conv1 = nn.Conv2d(3, 32, 3, padding=1)\n",
    "        self.conv2 = nn.Conv2d(32, 32, 3, padding=1)\n",
    "        \n",
    "        # Second covolution block\n",
    "        self.conv3 = nn.Conv2d(32, 64, 3, padding=1)\n",
    "        self.conv4 = nn.Conv2d(64, 64, 3, padding=1)\n",
    "        \n",
    "        # Third convolution block\n",
    "        self.conv5 = nn.Conv2d(64, 128, 3, padding=1)\n",
    "        self.conv6 = nn.Conv2d(128, 128, 3, padding=1)\n",
    "        \n",
    "        # Max pooling layer\n",
    "        self.pool = nn.MaxPool2d(2, 2)\n",
    "        \n",
    "        # Linear layer (4 * 4 * 128 -> 128)\n",
    "        self.fc1 = nn.Linear(4 * 4 * 128, 128)\n",
    "        self.fc2 = nn.Linear(128, 10)\n",
    "        \n",
    "        # Dropout layer\n",
    "        self.dropout1 = nn.Dropout(0.2)\n",
    "        self.dropout2 = nn.Dropout(0.3)\n",
    "        self.dropout3 = nn.Dropout(0.4)\n",
    "        self.dropout4 = nn.Dropout(0.5)\n",
    "        \n",
    "    def forward(self, x):\n",
    "        \n",
    "        # First block\n",
    "        x = F.relu(self.conv1(x))\n",
    "        x = F.relu(self.conv2(x))\n",
    "        x = self.pool(x)\n",
    "        x = self.dropout1(x)\n",
    "        \n",
    "        # Second block\n",
    "        x = F.relu(self.conv3(x))\n",
    "        x = F.relu(self.conv4(x))\n",
    "        x = self.pool(x)\n",
    "        x = self.dropout2(x)\n",
    "        \n",
    "        # Third block\n",
    "        x = F.relu(self.conv5(x))\n",
    "        x = F.relu(self.conv6(x))\n",
    "        x = self.pool(x)\n",
    "        x = self.dropout3(x)\n",
    "        \n",
    "        # Flattern\n",
    "        x = x.view(-1, 4 * 4 * 128)\n",
    "        \n",
    "        # Linear layer\n",
    "        x = F.relu(self.fc1(x))\n",
    "        x = self.dropout4(x)\n",
    "\n",
    "        x = self.fc2(x)\n",
    "        \n",
    "        return x"
   ]
  },
  {
   "cell_type": "code",
   "execution_count": null,
   "id": "80b51290-3394-440a-930a-a5455d5af503",
   "metadata": {},
   "outputs": [],
   "source": [
    "# create the CNN\n",
    "model = Net()\n",
    "model"
   ]
  },
  {
   "cell_type": "code",
   "execution_count": null,
   "id": "bd4df1ab-381b-4f5d-af25-18936779234b",
   "metadata": {},
   "outputs": [],
   "source": [
    "# check if CUDA is available\n",
    "train_on_gpu = torch.cuda.is_available()\n",
    "\n",
    "if not train_on_gpu:\n",
    "    print('Training on CPU ...')\n",
    "else:\n",
    "    print('Training on GPU ...')"
   ]
  },
  {
   "cell_type": "code",
   "execution_count": null,
   "id": "554ac2b4-e735-4040-bf49-ee6f3f9f577b",
   "metadata": {},
   "outputs": [],
   "source": [
    "if train_on_gpu:\n",
    "    model.cuda()"
   ]
  },
  {
   "cell_type": "markdown",
   "id": "cd3492fe-2834-415d-9574-a44cc9b5c815",
   "metadata": {},
   "source": [
    "### Loss Function & Optimizer"
   ]
  },
  {
   "cell_type": "code",
   "execution_count": null,
   "id": "c98ef79f-dd12-44ad-b27a-68e49d2c35d0",
   "metadata": {},
   "outputs": [],
   "source": [
    "# Categorical cross entrophy loss\n",
    "criterion = nn.CrossEntropyLoss()\n",
    "\n",
    "optimizer = optim.Adam(model.parameters(), lr=0.001)"
   ]
  },
  {
   "cell_type": "markdown",
   "id": "f0d46232-96b0-4b1c-ada0-cd6570bd9380",
   "metadata": {},
   "source": [
    "### Train the Network"
   ]
  },
  {
   "cell_type": "code",
   "execution_count": null,
   "id": "041253f2-e403-4896-9e5d-0cd1844195fd",
   "metadata": {},
   "outputs": [],
   "source": [
    "n_epochs = 20\n",
    "\n",
    "valid_loss_min = np.Inf\n",
    "\n",
    "train_losses, valid_losses = [], []\n",
    "\n",
    "for epoch in range(1, n_epochs+1):\n",
    "    train_loss = 0.0\n",
    "    valid_loss = 0.0\n",
    "    \n",
    "    ############# Train the model #############\n",
    "    model.train()\n",
    "    for images, labels in train_loader:\n",
    "        if train_on_gpu:\n",
    "            images, labels = images.cuda(), labels.cuda()\n",
    "            \n",
    "        optimizer.zero_grad()\n",
    "        \n",
    "        output = model(images)\n",
    "        loss = criterion(output, labels)\n",
    "        loss.backward()\n",
    "        optimizer.step()\n",
    "        \n",
    "        train_loss += loss.item() * images.size(0)\n",
    "        \n",
    "    ############# Train the model #############\n",
    "    with torch.no_grad():\n",
    "        model.eval()\n",
    "        for images, labels in valid_loader:\n",
    "            if train_on_gpu:\n",
    "                images, labels = images.cuda(), labels.cuda()\n",
    "                \n",
    "            output = model(images)\n",
    "            loss = criterion(output, labels)\n",
    "            valid_loss += loss.item() * images.size(0)\n",
    "            \n",
    "    # Calculate average losses\n",
    "    train_loss = train_loss/len(train_loader.sampler)\n",
    "    valid_loss = valid_loss/len(valid_loader.sampler)\n",
    "    \n",
    "    train_losses.append(train_loss)\n",
    "    valid_losses.append(valid_loss)\n",
    "    \n",
    "    print('Epoch: {} \\tTraining Loss: {:.6f} \\tValidation Loss: {:.6f}'.format(\n",
    "        epoch, train_loss, valid_loss))\n",
    "    \n",
    "    # Save model when validation loss decreases\n",
    "    if valid_loss <= valid_loss_min:\n",
    "        print('Validation loss decreased ({:.6f} --> {:.6f}). Saving model ...'.format(valid_loss_min,valid_loss))\n",
    "        \n",
    "        torch.save(model.state_dict(), 'model_cifar.pt')\n",
    "        valid_loss_min = valid_loss"
   ]
  },
  {
   "cell_type": "code",
   "execution_count": null,
   "id": "45a10597-8e1c-4c43-8d26-02ab9042f88c",
   "metadata": {},
   "outputs": [],
   "source": [
    "plt.plot(train_losses, label='Training loss')\n",
    "plt.plot(valid_losses, label='Validation loss')\n",
    "plt.legend(frameon=False)\n",
    "plt.xticks(range(20))\n",
    "plt.show()"
   ]
  },
  {
   "cell_type": "markdown",
   "id": "cbccbe74-6b91-4e98-bace-a79a8be464e8",
   "metadata": {},
   "source": [
    "### Load the Model with Lowest Validation Loss"
   ]
  },
  {
   "cell_type": "code",
   "execution_count": null,
   "id": "beae394e-e16a-4ec9-bf33-bb673fa64042",
   "metadata": {},
   "outputs": [],
   "source": [
    "model.load_state_dict(torch.load('model_cifar.pt'))"
   ]
  },
  {
   "cell_type": "markdown",
   "id": "f56a8120-737b-4033-aee9-4c2a0b56e1db",
   "metadata": {},
   "source": [
    "### Test the Trained Network"
   ]
  },
  {
   "cell_type": "code",
   "execution_count": null,
   "id": "5c91b574-bdea-4fb5-adec-d6b62e491465",
   "metadata": {},
   "outputs": [],
   "source": [
    "y_pred = torch.empty((0,10))\n",
    "y_true = torch.empty((0,1))\n",
    "\n",
    "test_loss = 0.0\n",
    "\n",
    "with torch.no_grad():\n",
    "    model.eval()\n",
    "    \n",
    "    for images, labels in test_loader:\n",
    "        if train_on_gpu:\n",
    "            images, labels = images.cuda(), labels.cuda()\n",
    "            \n",
    "        output = model(images)\n",
    "        loss = criterion(output, labels)\n",
    "        test_loss += loss.item() * images.size(0)\n",
    "\n",
    "        y_pred = torch.vstack([y_pred, output.cpu()])\n",
    "        y_true = torch.vstack([y_true, labels.view(-1,1).cpu()])\n",
    "        \n",
    "# average test loss\n",
    "test_loss = test_loss/len(test_loader.dataset)\n",
    "print('Test Loss: {:.6f}\\n'.format(test_loss))"
   ]
  },
  {
   "cell_type": "code",
   "execution_count": null,
   "id": "43aa2bef-23d1-493d-a53a-31314f33c69e",
   "metadata": {},
   "outputs": [],
   "source": [
    "_, pred = torch.max(y_pred, 1)\n",
    "\n",
    "for i in range(10):\n",
    "    class_accuracies = multiclass_accuracy(pred, torch.squeeze(y_true).to(torch.int64), average=None, num_classes=10)\n",
    "    \n",
    "    print('Test Accuracy of %10s: %.2f%%' % (classes[i], 100 * class_accuracies[i].item()))\n",
    "\n",
    "overall_accuracy = multiclass_accuracy(pred, torch.squeeze(y_true).to(torch.int64))    \n",
    "print('\\nTest Accuracy (Overall): %.2f%% ' % (100. * overall_accuracy.item()))"
   ]
  },
  {
   "cell_type": "code",
   "execution_count": null,
   "id": "f1e763c3-115b-4bda-ba4f-f2108ee4bc6a",
   "metadata": {},
   "outputs": [],
   "source": [
    "# Plot the confusion matrix\n",
    "disp = ConfusionMatrixDisplay(multiclass_confusion_matrix(pred, torch.squeeze(y_true).to(torch.int64), num_classes=10).numpy(), \n",
    "                              display_labels=classes)\n",
    "disp.plot()\n",
    "plt.xticks(rotation=90)\n",
    "plt.show()"
   ]
  },
  {
   "cell_type": "code",
   "execution_count": null,
   "id": "fdb2b045-8784-4fa1-a8ed-56b5eccd1076",
   "metadata": {},
   "outputs": [],
   "source": [
    "test_precision = multiclass_precision(pred, torch.squeeze(y_true).to(torch.int64), num_classes=10)\n",
    "test_recall =  multiclass_recall(pred, torch.squeeze(y_true).to(torch.int64), num_classes=10)\n",
    "\n",
    "print('\\nTest Precision : %.5f' % (test_precision))\n",
    "print('\\nTest Recall : %.5f' % (test_recall))"
   ]
  },
  {
   "cell_type": "markdown",
   "id": "b7bd39fd-04dc-4071-9f67-0b1d83f5a234",
   "metadata": {},
   "source": [
    "### Helper Function to Train with Multiple Learning Rates"
   ]
  },
  {
   "cell_type": "code",
   "execution_count": null,
   "id": "6627994f-754e-4a95-956c-db371552d062",
   "metadata": {},
   "outputs": [],
   "source": [
    "def train_model(learning_rate):\n",
    "    # Create a new model\n",
    "    model = Net()\n",
    "    \n",
    "    if train_on_gpu:\n",
    "        model.cuda()\n",
    "    \n",
    "    # Loss function and optimizer\n",
    "    criterion = nn.CrossEntropyLoss()\n",
    "    optimizer = optim.Adam(model.parameters(), lr=learning_rate)\n",
    "    \n",
    "    # Training\n",
    "    n_epochs = 20\n",
    "\n",
    "    valid_loss_min = np.Inf\n",
    "\n",
    "    train_losses, valid_losses = [], []\n",
    "\n",
    "    for epoch in range(1, n_epochs+1):\n",
    "        train_loss = 0.0\n",
    "        valid_loss = 0.0\n",
    "\n",
    "        ############# Train the model #############\n",
    "        model.train()\n",
    "        for images, labels in train_loader:\n",
    "            if train_on_gpu:\n",
    "                images, labels = images.cuda(), labels.cuda()\n",
    "\n",
    "            optimizer.zero_grad()\n",
    "\n",
    "            output = model(images)\n",
    "            loss = criterion(output, labels)\n",
    "            loss.backward()\n",
    "            optimizer.step()\n",
    "\n",
    "            train_loss += loss.item() * images.size(0)\n",
    "\n",
    "        ############# Train the model #############\n",
    "        with torch.no_grad():\n",
    "            model.eval()\n",
    "            for images, labels in valid_loader:\n",
    "                if train_on_gpu:\n",
    "                    images, labels = images.cuda(), labels.cuda()\n",
    "\n",
    "                output = model(images)\n",
    "                loss = criterion(output, labels)\n",
    "                valid_loss += loss.item() * images.size(0)\n",
    "\n",
    "        # Calculate average losses\n",
    "        train_loss = train_loss/len(train_loader.sampler)\n",
    "        valid_loss = valid_loss/len(valid_loader.sampler)\n",
    "\n",
    "        train_losses.append(train_loss)\n",
    "        valid_losses.append(valid_loss)\n",
    "\n",
    "        print('Epoch: {} \\tTraining Loss: {:.6f} \\tValidation Loss: {:.6f}'.format(epoch, train_loss, valid_loss))\n",
    "            \n",
    "    return train_losses, valid_losses"
   ]
  },
  {
   "cell_type": "code",
   "execution_count": null,
   "id": "42f2d429-90b3-46c5-9996-f610cd8ca862",
   "metadata": {},
   "outputs": [],
   "source": [
    "def plot_losses(train_losses, valid_losses, lr):\n",
    "    plt.plot(train_losses, label='Training loss')\n",
    "    plt.plot(valid_losses, label='Validation loss')\n",
    "    plt.legend(frameon=False)\n",
    "    plt.xticks(range(20))\n",
    "    plt.title(\"Learning Rate: \" + str(lr))\n",
    "    plt.show()"
   ]
  },
  {
   "cell_type": "code",
   "execution_count": null,
   "id": "399b34a1-316e-4bb1-a6bf-7a9f423815bc",
   "metadata": {},
   "outputs": [],
   "source": [
    "train_losses_0001, valid_losses_00001 = train_model(0.0001)"
   ]
  },
  {
   "cell_type": "code",
   "execution_count": null,
   "id": "4b2485ad-49de-455b-b231-6a6f77a398a9",
   "metadata": {},
   "outputs": [],
   "source": [
    "plot_losses(train_losses_0001, valid_losses_00001, 0.0001)"
   ]
  },
  {
   "cell_type": "code",
   "execution_count": null,
   "id": "56c4b3c0-1797-47c3-90a1-901ff06503ed",
   "metadata": {},
   "outputs": [],
   "source": [
    "train_losses_01, valid_losses_01 = train_model(0.01)"
   ]
  },
  {
   "cell_type": "code",
   "execution_count": null,
   "id": "f61f943f-0d52-4cd6-ae55-e1614979bb21",
   "metadata": {},
   "outputs": [],
   "source": [
    "plot_losses(train_losses_01, valid_losses_01, 0.01)"
   ]
  },
  {
   "cell_type": "code",
   "execution_count": null,
   "id": "904c718f-9caf-4e8e-8bec-0fb8fd1b3be0",
   "metadata": {},
   "outputs": [],
   "source": [
    "train_losses_1, valid_losses_1 = train_model(0.1)"
   ]
  },
  {
   "cell_type": "code",
   "execution_count": null,
   "id": "7ff97862-8788-4a0a-80ef-647c518cf555",
   "metadata": {},
   "outputs": [],
   "source": [
    "plot_losses(train_losses_1, valid_losses_1, 0.01)"
   ]
  },
  {
   "cell_type": "code",
   "execution_count": null,
   "id": "1d97938e-188c-4c2c-aff5-32f1a9b997e1",
   "metadata": {},
   "outputs": [],
   "source": [
    "# Enlarge the graph\n",
    "plt.plot(train_losses_1, label='Training loss')\n",
    "plt.plot(valid_losses_1, label='Validation loss')\n",
    "plt.legend(frameon=False)\n",
    "plt.xticks(range(20))\n",
    "plt.ylim((2.3,2.324))\n",
    "plt.title(\"Learning Rate: \" + str(0.1))\n",
    "plt.show()"
   ]
  }
 ],
 "metadata": {
  "kernelspec": {
   "display_name": "Python 3 (ipykernel)",
   "language": "python",
   "name": "python3"
  },
  "language_info": {
   "codemirror_mode": {
    "name": "ipython",
    "version": 3
   },
   "file_extension": ".py",
   "mimetype": "text/x-python",
   "name": "python",
   "nbconvert_exporter": "python",
   "pygments_lexer": "ipython3",
   "version": "3.8.18"
  }
 },
 "nbformat": 4,
 "nbformat_minor": 5
}
